{
 "cells": [
  {
   "cell_type": "code",
   "execution_count": 1,
   "id": "85b8ec1a-b700-4d0a-864c-799f238b1287",
   "metadata": {
    "jupyter": {
     "source_hidden": true
    }
   },
   "outputs": [],
   "source": [
    "import numpy as np\n",
    "import pandas as pd\n",
    "import matplotlib.pyplot as plt\n",
    "import seaborn as sns \n",
    "sns.set(style=\"whitegrid\")\n",
    "from sklearn.model_selection import train_test_split"
   ]
  },
  {
   "cell_type": "code",
   "execution_count": 2,
   "id": "63f0c004-af4f-4baf-bb7f-66ab68d4cff4",
   "metadata": {},
   "outputs": [],
   "source": [
    "df = pd.read_csv('dubai_properties.csv')"
   ]
  },
  {
   "cell_type": "code",
   "execution_count": 3,
   "id": "e9180041-a851-4990-8b1b-f16b579a2d87",
   "metadata": {},
   "outputs": [
    {
     "name": "stdout",
     "output_type": "stream",
     "text": [
      "Address                     0\n",
      "Rent                        0\n",
      "Beds                        0\n",
      "Baths                       0\n",
      "Type                        0\n",
      "Area_in_sqft                0\n",
      "Rent_per_sqft               0\n",
      "Rent_category               0\n",
      "Frequency                   0\n",
      "Furnishing                  0\n",
      "Purpose                     0\n",
      "Posted_date                 0\n",
      "Age_of_listing_in_days      0\n",
      "Location                    0\n",
      "City                        0\n",
      "Latitude                  719\n",
      "Longitude                 719\n",
      "dtype: int64\n"
     ]
    }
   ],
   "source": [
    "print(df.isnull().sum())"
   ]
  },
  {
   "cell_type": "code",
   "execution_count": 4,
   "id": "5bf5bbd9-abab-40f4-8837-89bf7ce11886",
   "metadata": {},
   "outputs": [
    {
     "name": "stdout",
     "output_type": "stream",
     "text": [
      "Data shape after removing null values in Latitude and Longitude columns: (73023, 17)\n"
     ]
    }
   ],
   "source": [
    "# Remove rows with null values in the 'Latitude' and 'Longitude' columns\n",
    "df.dropna(subset=['Latitude', 'Longitude'], inplace=True)\n",
    "\n",
    "# Verify the shape of the DataFrame after removing null values\n",
    "print(\"Data shape after removing null values in Latitude and Longitude columns:\", df.shape)\n"
   ]
  },
  {
   "cell_type": "code",
   "execution_count": 6,
   "id": "97411f7b-cf99-4b5d-96fc-d9fff3ea376d",
   "metadata": {},
   "outputs": [
    {
     "name": "stdout",
     "output_type": "stream",
     "text": [
      "Correlation with 'Rents':\n",
      "Rent                      1.000000\n",
      "Beds                      0.311179\n",
      "Baths                     0.080013\n",
      "Area_in_sqft              0.410185\n",
      "Rent_per_sqft             0.348614\n",
      "Age_of_listing_in_days    0.002431\n",
      "Latitude                  0.027837\n",
      "Longitude                 0.007521\n",
      "dtype: float64\n"
     ]
    }
   ],
   "source": [
    "# Calculating correlation between independent variables and target variable\n",
    "correlation = df[['Rent', 'Beds', 'Baths','Area_in_sqft','Rent_per_sqft','Age_of_listing_in_days', 'Latitude','Longitude']].corrwith(df['Rent'])\n",
    "\n",
    "print(\"Correlation with 'Rents':\")\n",
    "print(correlation)"
   ]
  },
  {
   "cell_type": "code",
   "execution_count": 8,
   "id": "8d2ef9ca-0bcf-4767-a54b-d4c5984fcc23",
   "metadata": {},
   "outputs": [
    {
     "name": "stdout",
     "output_type": "stream",
     "text": [
      "Original DataFrame shape: (73023, 17)\n",
      "Cleaned DataFrame shape: (56776, 17)\n"
     ]
    }
   ],
   "source": [
    "import pandas as pd\n",
    "\n",
    "# List of columns you want to check for outliers\n",
    "columns = ['Rent', 'Beds', 'Baths', 'Area_in_sqft', 'Rent_per_sqft']\n",
    "\n",
    "# Function to remove outliers in a dataframe\n",
    "def remove_outliers(df, columns):\n",
    "    for column in columns:\n",
    "        Q1 = df[column].quantile(0.25)\n",
    "        Q3 = df[column].quantile(0.75)\n",
    "        IQR = Q3 - Q1\n",
    "        lower_bound = Q1 - 1.5 * IQR\n",
    "        upper_bound = Q3 + 1.5 * IQR\n",
    "        \n",
    "        # Filter out outliers and keep data within the interquartile range\n",
    "        df = df[(df[column] >= lower_bound) & (df[column] <= upper_bound)]\n",
    "    \n",
    "    return df\n",
    "\n",
    "# Apply the function to your dataframe\n",
    "df_clean = remove_outliers(df, columns)\n",
    "\n",
    "# You can check the shape of the original and cleaned dataframes\n",
    "print(\"Original DataFrame shape:\", df.shape)\n",
    "print(\"Cleaned DataFrame shape:\", df_clean.shape)\n"
   ]
  },
  {
   "cell_type": "code",
   "execution_count": 9,
   "id": "a6eb1f96-7f59-4b39-b273-10a5eb9d8b9e",
   "metadata": {},
   "outputs": [
    {
     "name": "stdout",
     "output_type": "stream",
     "text": [
      "Shape of X_train: (45420, 4)\n",
      "Shape of X_test: (11356, 4)\n",
      "Shape of y_train: (45420,)\n",
      "Shape of y_test: (11356,)\n"
     ]
    }
   ],
   "source": [
    "x = df_clean[['Beds', 'Baths', 'Area_in_sqft', 'Rent_per_sqft']]\n",
    "y = df_clean['Rent']\n",
    "\n",
    "# Splitting the dataset into training and testing sets (80% train, 20% test)\n",
    "x_train, x_test, y_train, y_test = train_test_split(x, y, test_size=0.2, random_state=42)\n",
    "\n",
    "# Print the shapes of the training and testing sets\n",
    "print(\"Shape of X_train:\", x_train.shape)\n",
    "print(\"Shape of X_test:\", x_test.shape)\n",
    "print(\"Shape of y_train:\", y_train.shape)\n",
    "print(\"Shape of y_test:\", y_test.shape)\n"
   ]
  },
  {
   "cell_type": "code",
   "execution_count": 11,
   "id": "fbae87ae-d2ae-468b-9d11-6f6487406159",
   "metadata": {},
   "outputs": [
    {
     "name": "stdout",
     "output_type": "stream",
     "text": [
      "Mean Squared Error: 524474821.4641857\n",
      "R^2 Score: 0.8808222226092947\n"
     ]
    }
   ],
   "source": [
    "from sklearn.linear_model import LinearRegression\n",
    "from sklearn.metrics import mean_squared_error, r2_score\n",
    "\n",
    "# Assuming x_train and y_train are your training features and target respectively\n",
    "# Assuming x_test and y_test are your test features and target respectively\n",
    "\n",
    "# Initialize the linear regression model\n",
    "model = LinearRegression()\n",
    "\n",
    "# Train the model on the training data\n",
    "model.fit(x_train, y_train)\n",
    "\n",
    "# Predict target values on the test data\n",
    "y_pred = model.predict(x_test)\n",
    "\n",
    "# Calculate mean squared error (MSE) to evaluate the model's performance\n",
    "mse = mean_squared_error(y_test, y_pred)\n",
    "print(\"Mean Squared Error:\", mse)\n",
    "r2 = r2_score(y_test, y_pred)\n",
    "print(\"R^2 Score:\", r2)"
   ]
  },
  {
   "cell_type": "code",
   "execution_count": 13,
   "id": "0cd8db72-4bb6-4dc0-9a8d-38db27c096cb",
   "metadata": {},
   "outputs": [
    {
     "name": "stdout",
     "output_type": "stream",
     "text": [
      "RMSE scores of LinearRegression are [23097.98418442 23379.83299032 23302.01538419 22875.38726464\n",
      " 22809.78310681]\n",
      "R2 scores of LinearRegression are [0.88193341 0.87832261 0.87776111 0.88073267 0.87992311]\n",
      "----------------------------------------------------------------------------------------------------\n",
      "RMSE scores of Ridge are [23097.99406146 23379.84113813 23302.00840692 22875.3821682\n",
      " 22809.7766647 ]\n",
      "R2 scores of Ridge are [0.88193331 0.87832253 0.87776118 0.88073272 0.87992318]\n",
      "----------------------------------------------------------------------------------------------------\n",
      "RMSE scores of Lasso are [23098.01713695 23379.86243033 23301.99153028 22875.36910533\n",
      " 22809.76338374]\n",
      "R2 scores of Lasso are [0.88193307 0.8783223  0.87776136 0.88073286 0.87992332]\n",
      "----------------------------------------------------------------------------------------------------\n"
     ]
    }
   ],
   "source": [
    "# making models to use\n",
    "\n",
    "from sklearn.model_selection import train_test_split\n",
    "from sklearn.linear_model import LinearRegression\n",
    "from sklearn.tree import DecisionTreeRegressor\n",
    "from sklearn.ensemble import RandomForestRegressor\n",
    "from sklearn.linear_model import Lasso\n",
    "from sklearn.linear_model import Ridge\n",
    "from sklearn.preprocessing import StandardScaler\n",
    "from sklearn.model_selection import cross_val_score\n",
    "from sklearn.model_selection import GridSearchCV\n",
    "import warnings\n",
    "\n",
    "linreg = LinearRegression()\n",
    "ridge = Ridge()\n",
    "lasso = Lasso()\n",
    "\n",
    "models = [linreg,ridge,lasso]\n",
    "model_name = [\"LinearRegression\",\"Ridge\",\"Lasso\"]\n",
    "\n",
    "average_rmse = []\n",
    "average_r2_score = []\n",
    "for model, name in zip(models,model_name):\n",
    "    scores = ['neg_root_mean_squared_error',\"r2\"]\n",
    "    cv_score_rmse = cross_val_score(model,x_train,y_train,cv=5,scoring = 'neg_root_mean_squared_error')\n",
    "    cv_score_r2 = cross_val_score(model,x_train,y_train,cv=5,scoring = 'r2')\n",
    "    average_rmse.append(np.mean(-1 * cv_score_rmse))\n",
    "    average_r2_score.append(np.mean(cv_score_r2))\n",
    "    print(\"RMSE scores of {} are {}\".format(name,-1 * cv_score_rmse))\n",
    "    print(\"R2 scores of {} are {}\".format(name, cv_score_r2))\n",
    "    #print(\"R2 score of {} are {}\".format(name,cv_score))\n",
    "    print(\"-\" * 100)\n",
    "    "
   ]
  },
  {
   "cell_type": "code",
   "execution_count": null,
   "id": "542b20d4-f86b-42ef-9a71-2d9a87f57ae1",
   "metadata": {},
   "outputs": [],
   "source": []
  },
  {
   "cell_type": "code",
   "execution_count": null,
   "id": "1ba168f2-38c7-4d07-ad6e-b89bf750f60d",
   "metadata": {},
   "outputs": [],
   "source": []
  },
  {
   "cell_type": "code",
   "execution_count": null,
   "id": "eb50d565-4f3d-4345-8cf2-6c380dab6901",
   "metadata": {},
   "outputs": [],
   "source": []
  },
  {
   "cell_type": "code",
   "execution_count": null,
   "id": "3b4c5714-842b-41bd-82ce-2d44e66c6966",
   "metadata": {},
   "outputs": [],
   "source": []
  },
  {
   "cell_type": "code",
   "execution_count": null,
   "id": "ebe38dab-8dc0-49b5-a466-f4afcb79a53d",
   "metadata": {},
   "outputs": [],
   "source": []
  },
  {
   "cell_type": "code",
   "execution_count": null,
   "id": "aea3dafd-6a61-47a4-bd51-0614821e03a3",
   "metadata": {},
   "outputs": [],
   "source": []
  },
  {
   "cell_type": "code",
   "execution_count": null,
   "id": "29c902da-5076-4632-9b44-cb4ecc4e7c97",
   "metadata": {},
   "outputs": [],
   "source": []
  },
  {
   "cell_type": "code",
   "execution_count": null,
   "id": "a976b38a-a91c-440e-a0c2-b35b79a9e599",
   "metadata": {},
   "outputs": [],
   "source": []
  },
  {
   "cell_type": "code",
   "execution_count": null,
   "id": "c5993a18-6d35-4277-8d28-c335c45a04ca",
   "metadata": {},
   "outputs": [],
   "source": []
  },
  {
   "cell_type": "code",
   "execution_count": 7,
   "id": "11483a59-2378-4c3c-a679-87a892db64df",
   "metadata": {},
   "outputs": [
    {
     "name": "stdout",
     "output_type": "stream",
     "text": [
      "Mean Squared Error: 2806846335.588547\n",
      "R^2 Score: 0.9640235249024395\n"
     ]
    }
   ],
   "source": [
    "import pandas as pd\n",
    "from sklearn.model_selection import train_test_split\n",
    "from sklearn.ensemble import GradientBoostingRegressor\n",
    "from sklearn.metrics import mean_squared_error, r2_score\n",
    "\n",
    "\n",
    "# Initialize the GradientBoostingRegressor model\n",
    "model = GradientBoostingRegressor(n_estimators=100, learning_rate=0.1, max_depth=3, random_state=0)\n",
    "\n",
    "# Fit the model on the training data\n",
    "model.fit(x_train, y_train)\n",
    "\n",
    "# Make predictions on the test set\n",
    "predictions = model.predict(x_test)\n",
    "\n",
    "# Evaluate the model\n",
    "mse = mean_squared_error(y_test, predictions)\n",
    "r2 = r2_score(y_test, predictions)\n",
    "\n",
    "print(\"Mean Squared Error:\", mse)\n",
    "print(\"R^2 Score:\", r2)\n"
   ]
  },
  {
   "cell_type": "code",
   "execution_count": 10,
   "id": "d5568109-23a5-4ddf-934b-1f176417bc54",
   "metadata": {},
   "outputs": [
    {
     "name": "stdout",
     "output_type": "stream",
     "text": [
      "Mean Squared Error: 15650147.46399403\n",
      "R^2 Score: 0.9964437762991394\n"
     ]
    }
   ],
   "source": [
    "import pandas as pd\n",
    "from sklearn.model_selection import train_test_split\n",
    "from sklearn.ensemble import GradientBoostingRegressor\n",
    "from sklearn.metrics import mean_squared_error, r2_score\n",
    "\n",
    "\n",
    "# Initialize the GradientBoostingRegressor model\n",
    "model = GradientBoostingRegressor(n_estimators=100, learning_rate=0.1, max_depth=3, random_state=0)\n",
    "\n",
    "# Fit the model on the training data\n",
    "model.fit(x_train, y_train)\n",
    "\n",
    "# Make predictions on the test set\n",
    "predictions = model.predict(x_test)\n",
    "\n",
    "# Evaluate the model\n",
    "mse = mean_squared_error(y_test, predictions)\n",
    "r2 = r2_score(y_test, predictions)\n",
    "\n",
    "print(\"Mean Squared Error:\", mse)\n",
    "print(\"R^2 Score:\", r2)\n"
   ]
  },
  {
   "cell_type": "code",
   "execution_count": null,
   "id": "0850210d-9899-4756-9ff1-3b6b70c629db",
   "metadata": {},
   "outputs": [],
   "source": []
  }
 ],
 "metadata": {
  "kernelspec": {
   "display_name": "Python 3 (ipykernel)",
   "language": "python",
   "name": "python3"
  },
  "language_info": {
   "codemirror_mode": {
    "name": "ipython",
    "version": 3
   },
   "file_extension": ".py",
   "mimetype": "text/x-python",
   "name": "python",
   "nbconvert_exporter": "python",
   "pygments_lexer": "ipython3",
   "version": "3.11.7"
  }
 },
 "nbformat": 4,
 "nbformat_minor": 5
}
